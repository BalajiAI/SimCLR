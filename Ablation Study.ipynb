{
  "nbformat": 4,
  "nbformat_minor": 0,
  "metadata": {
    "colab": {
      "name": "Ablation Study.ipynb",
      "provenance": []
    },
    "kernelspec": {
      "name": "python3",
      "display_name": "Python 3"
    },
    "language_info": {
      "name": "python"
    },
    "accelerator": "GPU",
    "widgets": {
      "application/vnd.jupyter.widget-state+json": {
        "933b4fab3dc142a4862e36def296a172": {
          "model_module": "@jupyter-widgets/controls",
          "model_name": "HBoxModel",
          "model_module_version": "1.5.0",
          "state": {
            "_view_name": "HBoxView",
            "_dom_classes": [],
            "_model_name": "HBoxModel",
            "_view_module": "@jupyter-widgets/controls",
            "_model_module_version": "1.5.0",
            "_view_count": null,
            "_view_module_version": "1.5.0",
            "box_style": "",
            "layout": "IPY_MODEL_573f2a7a9fc144b0be74c322c1f8e94a",
            "_model_module": "@jupyter-widgets/controls",
            "children": [
              "IPY_MODEL_af9d5d4b8110459ab275581e5f5ef544",
              "IPY_MODEL_ff9862b1c22e4f48aa6635c6223194f9",
              "IPY_MODEL_4b277960755641829cb0bdc5689986ad"
            ]
          }
        },
        "573f2a7a9fc144b0be74c322c1f8e94a": {
          "model_module": "@jupyter-widgets/base",
          "model_name": "LayoutModel",
          "model_module_version": "1.2.0",
          "state": {
            "_view_name": "LayoutView",
            "grid_template_rows": null,
            "right": null,
            "justify_content": null,
            "_view_module": "@jupyter-widgets/base",
            "overflow": null,
            "_model_module_version": "1.2.0",
            "_view_count": null,
            "flex_flow": null,
            "width": null,
            "min_width": null,
            "border": null,
            "align_items": null,
            "bottom": null,
            "_model_module": "@jupyter-widgets/base",
            "top": null,
            "grid_column": null,
            "overflow_y": null,
            "overflow_x": null,
            "grid_auto_flow": null,
            "grid_area": null,
            "grid_template_columns": null,
            "flex": null,
            "_model_name": "LayoutModel",
            "justify_items": null,
            "grid_row": null,
            "max_height": null,
            "align_content": null,
            "visibility": null,
            "align_self": null,
            "height": null,
            "min_height": null,
            "padding": null,
            "grid_auto_rows": null,
            "grid_gap": null,
            "max_width": null,
            "order": null,
            "_view_module_version": "1.2.0",
            "grid_template_areas": null,
            "object_position": null,
            "object_fit": null,
            "grid_auto_columns": null,
            "margin": null,
            "display": null,
            "left": null
          }
        },
        "af9d5d4b8110459ab275581e5f5ef544": {
          "model_module": "@jupyter-widgets/controls",
          "model_name": "HTMLModel",
          "model_module_version": "1.5.0",
          "state": {
            "_view_name": "HTMLView",
            "style": "IPY_MODEL_cdf2e38b636e4c34a6a8997a28b71c0e",
            "_dom_classes": [],
            "description": "",
            "_model_name": "HTMLModel",
            "placeholder": "​",
            "_view_module": "@jupyter-widgets/controls",
            "_model_module_version": "1.5.0",
            "value": "",
            "_view_count": null,
            "_view_module_version": "1.5.0",
            "description_tooltip": null,
            "_model_module": "@jupyter-widgets/controls",
            "layout": "IPY_MODEL_37230f5645e84e5db8e42094097c441a"
          }
        },
        "ff9862b1c22e4f48aa6635c6223194f9": {
          "model_module": "@jupyter-widgets/controls",
          "model_name": "FloatProgressModel",
          "model_module_version": "1.5.0",
          "state": {
            "_view_name": "ProgressView",
            "style": "IPY_MODEL_bc5dbd6b743844eeb2ac1de1ec497583",
            "_dom_classes": [],
            "description": "",
            "_model_name": "FloatProgressModel",
            "bar_style": "success",
            "max": 2640397119,
            "_view_module": "@jupyter-widgets/controls",
            "_model_module_version": "1.5.0",
            "value": 2640397119,
            "_view_count": null,
            "_view_module_version": "1.5.0",
            "orientation": "horizontal",
            "min": 0,
            "description_tooltip": null,
            "_model_module": "@jupyter-widgets/controls",
            "layout": "IPY_MODEL_7c7106628e0e446dbe5d1501006bf315"
          }
        },
        "4b277960755641829cb0bdc5689986ad": {
          "model_module": "@jupyter-widgets/controls",
          "model_name": "HTMLModel",
          "model_module_version": "1.5.0",
          "state": {
            "_view_name": "HTMLView",
            "style": "IPY_MODEL_44f7bde0507c4bf080a930cbc0395c16",
            "_dom_classes": [],
            "description": "",
            "_model_name": "HTMLModel",
            "placeholder": "​",
            "_view_module": "@jupyter-widgets/controls",
            "_model_module_version": "1.5.0",
            "value": " 2640397312/? [06:24&lt;00:00, 6372643.07it/s]",
            "_view_count": null,
            "_view_module_version": "1.5.0",
            "description_tooltip": null,
            "_model_module": "@jupyter-widgets/controls",
            "layout": "IPY_MODEL_eff7189c254e449bb53d3527c0b5b292"
          }
        },
        "cdf2e38b636e4c34a6a8997a28b71c0e": {
          "model_module": "@jupyter-widgets/controls",
          "model_name": "DescriptionStyleModel",
          "model_module_version": "1.5.0",
          "state": {
            "_view_name": "StyleView",
            "_model_name": "DescriptionStyleModel",
            "description_width": "",
            "_view_module": "@jupyter-widgets/base",
            "_model_module_version": "1.5.0",
            "_view_count": null,
            "_view_module_version": "1.2.0",
            "_model_module": "@jupyter-widgets/controls"
          }
        },
        "37230f5645e84e5db8e42094097c441a": {
          "model_module": "@jupyter-widgets/base",
          "model_name": "LayoutModel",
          "model_module_version": "1.2.0",
          "state": {
            "_view_name": "LayoutView",
            "grid_template_rows": null,
            "right": null,
            "justify_content": null,
            "_view_module": "@jupyter-widgets/base",
            "overflow": null,
            "_model_module_version": "1.2.0",
            "_view_count": null,
            "flex_flow": null,
            "width": null,
            "min_width": null,
            "border": null,
            "align_items": null,
            "bottom": null,
            "_model_module": "@jupyter-widgets/base",
            "top": null,
            "grid_column": null,
            "overflow_y": null,
            "overflow_x": null,
            "grid_auto_flow": null,
            "grid_area": null,
            "grid_template_columns": null,
            "flex": null,
            "_model_name": "LayoutModel",
            "justify_items": null,
            "grid_row": null,
            "max_height": null,
            "align_content": null,
            "visibility": null,
            "align_self": null,
            "height": null,
            "min_height": null,
            "padding": null,
            "grid_auto_rows": null,
            "grid_gap": null,
            "max_width": null,
            "order": null,
            "_view_module_version": "1.2.0",
            "grid_template_areas": null,
            "object_position": null,
            "object_fit": null,
            "grid_auto_columns": null,
            "margin": null,
            "display": null,
            "left": null
          }
        },
        "bc5dbd6b743844eeb2ac1de1ec497583": {
          "model_module": "@jupyter-widgets/controls",
          "model_name": "ProgressStyleModel",
          "model_module_version": "1.5.0",
          "state": {
            "_view_name": "StyleView",
            "_model_name": "ProgressStyleModel",
            "description_width": "",
            "_view_module": "@jupyter-widgets/base",
            "_model_module_version": "1.5.0",
            "_view_count": null,
            "_view_module_version": "1.2.0",
            "bar_color": null,
            "_model_module": "@jupyter-widgets/controls"
          }
        },
        "7c7106628e0e446dbe5d1501006bf315": {
          "model_module": "@jupyter-widgets/base",
          "model_name": "LayoutModel",
          "model_module_version": "1.2.0",
          "state": {
            "_view_name": "LayoutView",
            "grid_template_rows": null,
            "right": null,
            "justify_content": null,
            "_view_module": "@jupyter-widgets/base",
            "overflow": null,
            "_model_module_version": "1.2.0",
            "_view_count": null,
            "flex_flow": null,
            "width": null,
            "min_width": null,
            "border": null,
            "align_items": null,
            "bottom": null,
            "_model_module": "@jupyter-widgets/base",
            "top": null,
            "grid_column": null,
            "overflow_y": null,
            "overflow_x": null,
            "grid_auto_flow": null,
            "grid_area": null,
            "grid_template_columns": null,
            "flex": null,
            "_model_name": "LayoutModel",
            "justify_items": null,
            "grid_row": null,
            "max_height": null,
            "align_content": null,
            "visibility": null,
            "align_self": null,
            "height": null,
            "min_height": null,
            "padding": null,
            "grid_auto_rows": null,
            "grid_gap": null,
            "max_width": null,
            "order": null,
            "_view_module_version": "1.2.0",
            "grid_template_areas": null,
            "object_position": null,
            "object_fit": null,
            "grid_auto_columns": null,
            "margin": null,
            "display": null,
            "left": null
          }
        },
        "44f7bde0507c4bf080a930cbc0395c16": {
          "model_module": "@jupyter-widgets/controls",
          "model_name": "DescriptionStyleModel",
          "model_module_version": "1.5.0",
          "state": {
            "_view_name": "StyleView",
            "_model_name": "DescriptionStyleModel",
            "description_width": "",
            "_view_module": "@jupyter-widgets/base",
            "_model_module_version": "1.5.0",
            "_view_count": null,
            "_view_module_version": "1.2.0",
            "_model_module": "@jupyter-widgets/controls"
          }
        },
        "eff7189c254e449bb53d3527c0b5b292": {
          "model_module": "@jupyter-widgets/base",
          "model_name": "LayoutModel",
          "model_module_version": "1.2.0",
          "state": {
            "_view_name": "LayoutView",
            "grid_template_rows": null,
            "right": null,
            "justify_content": null,
            "_view_module": "@jupyter-widgets/base",
            "overflow": null,
            "_model_module_version": "1.2.0",
            "_view_count": null,
            "flex_flow": null,
            "width": null,
            "min_width": null,
            "border": null,
            "align_items": null,
            "bottom": null,
            "_model_module": "@jupyter-widgets/base",
            "top": null,
            "grid_column": null,
            "overflow_y": null,
            "overflow_x": null,
            "grid_auto_flow": null,
            "grid_area": null,
            "grid_template_columns": null,
            "flex": null,
            "_model_name": "LayoutModel",
            "justify_items": null,
            "grid_row": null,
            "max_height": null,
            "align_content": null,
            "visibility": null,
            "align_self": null,
            "height": null,
            "min_height": null,
            "padding": null,
            "grid_auto_rows": null,
            "grid_gap": null,
            "max_width": null,
            "order": null,
            "_view_module_version": "1.2.0",
            "grid_template_areas": null,
            "object_position": null,
            "object_fit": null,
            "grid_auto_columns": null,
            "margin": null,
            "display": null,
            "left": null
          }
        }
      }
    }
  },
  "cells": [
    {
      "cell_type": "markdown",
      "metadata": {
        "id": "bk6L8LQmgOqT"
      },
      "source": [
        "# <center>Ablation Study of Effect of Pretraining using SimCLR<center>"
      ]
    },
    {
      "cell_type": "markdown",
      "metadata": {
        "id": "tzmCG9tQGxwl"
      },
      "source": [
        "## Import Libraries"
      ]
    },
    {
      "cell_type": "code",
      "metadata": {
        "id": "qGc_bnl211Vs"
      },
      "source": [
        "import numpy as np\n",
        "import matplotlib.pyplot as plt\n",
        "\n",
        "import torch\n",
        "import torch.nn as nn\n",
        "from torch.utils.data import DataLoader\n",
        "\n",
        "import torchvision\n",
        "from torchvision import datasets,models,transforms"
      ],
      "execution_count": null,
      "outputs": []
    },
    {
      "cell_type": "code",
      "metadata": {
        "colab": {
          "base_uri": "https://localhost:8080/"
        },
        "id": "b_H8WHEhBXTk",
        "outputId": "47e3f514-b704-455b-9c69-1d2062143c74"
      },
      "source": [
        "device = torch.device('cuda' if torch.cuda.is_available() else 'cpu')\n",
        "print(device)"
      ],
      "execution_count": null,
      "outputs": [
        {
          "output_type": "stream",
          "name": "stdout",
          "text": [
            "cuda\n"
          ]
        }
      ]
    },
    {
      "cell_type": "code",
      "metadata": {
        "id": "Wi_tLfqyRiAw"
      },
      "source": [
        "#For Reproducibility purposes\n",
        "\n",
        "manualSeed = 42\n",
        "torch.manual_seed(manualSeed)\n",
        "\n",
        "import random\n",
        "random.seed(manualSeed)\n",
        "\n",
        "np.random.seed(manualSeed)\n",
        "\n",
        "if (device=='cuda'):\n",
        "  torch.backends.cudnn.determinstic = True\n",
        "  torch.backends.cudnn.benchmark = False"
      ],
      "execution_count": null,
      "outputs": []
    },
    {
      "cell_type": "code",
      "metadata": {
        "id": "L540m4KTYgYa",
        "colab": {
          "base_uri": "https://localhost:8080/"
        },
        "outputId": "31d73f3d-a5f5-4b1e-9dbd-fbca40590d70"
      },
      "source": [
        "from google.colab import drive\n",
        "drive.mount('/content/gdrive')"
      ],
      "execution_count": null,
      "outputs": [
        {
          "output_type": "stream",
          "name": "stdout",
          "text": [
            "Mounted at /content/gdrive\n"
          ]
        }
      ]
    },
    {
      "cell_type": "markdown",
      "source": [
        "## Network"
      ],
      "metadata": {
        "id": "jrNRdrlwuiWP"
      }
    },
    {
      "cell_type": "code",
      "source": [
        "class NeuralNet(nn.Module):\n",
        "\n",
        "    def __init__(self,hidden_dim):\n",
        "        super().__init__()\n",
        "        self.cnn = torchvision.models.resnet18(pretrained=False,num_classes=4*hidden_dim)\n",
        "        self.mlp = nn.Sequential(\n",
        "                          nn.ReLU(inplace=True),\n",
        "                          nn.Linear(4*hidden_dim,hidden_dim),\n",
        "                                )\n",
        "    \n",
        "    def forward(self,x):\n",
        "        x = self.cnn(x)\n",
        "        x = self.mlp(x)\n",
        "        return x"
      ],
      "metadata": {
        "id": "1QURmrwvunsh"
      },
      "execution_count": null,
      "outputs": []
    },
    {
      "cell_type": "markdown",
      "metadata": {
        "id": "6XC73QUUGnRl"
      },
      "source": [
        "## Training function"
      ]
    },
    {
      "cell_type": "code",
      "metadata": {
        "id": "Cr7jeyRVClol"
      },
      "source": [
        "def train(dataloader,model,nb_epochs=100):\n",
        "  \n",
        "  model = model.to(device)\n",
        "  model.train()\n",
        "  loss_fn = nn.CrossEntropyLoss()\n",
        "  optimizer = torch.optim.SGD(model.parameters(),lr=1e-3)\n",
        "   \n",
        "  losses = []\n",
        "  for epoch in range(nb_epochs): \n",
        "    running_loss = 0\n",
        "    for batch,(imgs,labels) in enumerate(dataloader):\n",
        "      output = model(imgs.to(device))\n",
        "      loss = loss_fn(output,labels.to(device))\n",
        "      \n",
        "      #Optimization step\n",
        "      optimizer.zero_grad()\n",
        "      loss.backward()\n",
        "      optimizer.step()\n",
        "      \n",
        "      running_loss += loss.item()\n",
        "    \n",
        "    avg_loss = running_loss/(batch+1)\n",
        "    losses.append(avg_loss)\n",
        "    print(f'Training loss for epoch {epoch+1} = {avg_loss:.7f}')\n",
        "\n",
        "  print('\\nTraining has successfully finished !')\n",
        "  return losses"
      ],
      "execution_count": null,
      "outputs": []
    },
    {
      "cell_type": "markdown",
      "metadata": {
        "id": "RpA-hoTobW9I"
      },
      "source": [
        "## Testing function"
      ]
    },
    {
      "cell_type": "code",
      "metadata": {
        "id": "alxP6c7OcH_T"
      },
      "source": [
        "def test(dataloader,model):\n",
        "\n",
        "  model = model.to(device)\n",
        "  model.eval()\n",
        "  loss_fn = nn.CrossEntropyLoss()\n",
        "\n",
        "  total = 0\n",
        "  correct = 0\n",
        "  for batch,(imgs,labels) in enumerate(dataloader):\n",
        "    output = model(imgs.to(device))\n",
        "    \n",
        "    total += labels.size(0)\n",
        "    correct += (output.argmax(dim=1) == labels.to(device)).sum().item()\n",
        "\n",
        "  print(f'Accuracy on Testing set = {100*(correct/total):.3f}% [{correct}/{total}]')"
      ],
      "execution_count": null,
      "outputs": []
    },
    {
      "cell_type": "markdown",
      "metadata": {
        "id": "gsNDYKshTMkB"
      },
      "source": [
        "## Finetuning "
      ]
    },
    {
      "cell_type": "code",
      "metadata": {
        "id": "PdgvqP4ATfD2"
      },
      "source": [
        "simclr = torch.load(\"/content/gdrive/MyDrive/Pretrained models/simclr.pth\")"
      ],
      "execution_count": null,
      "outputs": []
    },
    {
      "cell_type": "code",
      "metadata": {
        "id": "yvj9AmT625PI",
        "colab": {
          "base_uri": "https://localhost:8080/"
        },
        "outputId": "b1ebf38e-1586-4903-d349-6c505dad8d39"
      },
      "source": [
        "simclr.cnn.fc = nn.Linear(512,10)\n",
        "simclr.mlp = nn.Identity()\n",
        "print(simclr)"
      ],
      "execution_count": null,
      "outputs": [
        {
          "output_type": "stream",
          "name": "stdout",
          "text": [
            "NeuralNet(\n",
            "  (cnn): ResNet(\n",
            "    (conv1): Conv2d(3, 64, kernel_size=(7, 7), stride=(2, 2), padding=(3, 3), bias=False)\n",
            "    (bn1): BatchNorm2d(64, eps=1e-05, momentum=0.1, affine=True, track_running_stats=True)\n",
            "    (relu): ReLU(inplace=True)\n",
            "    (maxpool): MaxPool2d(kernel_size=3, stride=2, padding=1, dilation=1, ceil_mode=False)\n",
            "    (layer1): Sequential(\n",
            "      (0): BasicBlock(\n",
            "        (conv1): Conv2d(64, 64, kernel_size=(3, 3), stride=(1, 1), padding=(1, 1), bias=False)\n",
            "        (bn1): BatchNorm2d(64, eps=1e-05, momentum=0.1, affine=True, track_running_stats=True)\n",
            "        (relu): ReLU(inplace=True)\n",
            "        (conv2): Conv2d(64, 64, kernel_size=(3, 3), stride=(1, 1), padding=(1, 1), bias=False)\n",
            "        (bn2): BatchNorm2d(64, eps=1e-05, momentum=0.1, affine=True, track_running_stats=True)\n",
            "      )\n",
            "      (1): BasicBlock(\n",
            "        (conv1): Conv2d(64, 64, kernel_size=(3, 3), stride=(1, 1), padding=(1, 1), bias=False)\n",
            "        (bn1): BatchNorm2d(64, eps=1e-05, momentum=0.1, affine=True, track_running_stats=True)\n",
            "        (relu): ReLU(inplace=True)\n",
            "        (conv2): Conv2d(64, 64, kernel_size=(3, 3), stride=(1, 1), padding=(1, 1), bias=False)\n",
            "        (bn2): BatchNorm2d(64, eps=1e-05, momentum=0.1, affine=True, track_running_stats=True)\n",
            "      )\n",
            "    )\n",
            "    (layer2): Sequential(\n",
            "      (0): BasicBlock(\n",
            "        (conv1): Conv2d(64, 128, kernel_size=(3, 3), stride=(2, 2), padding=(1, 1), bias=False)\n",
            "        (bn1): BatchNorm2d(128, eps=1e-05, momentum=0.1, affine=True, track_running_stats=True)\n",
            "        (relu): ReLU(inplace=True)\n",
            "        (conv2): Conv2d(128, 128, kernel_size=(3, 3), stride=(1, 1), padding=(1, 1), bias=False)\n",
            "        (bn2): BatchNorm2d(128, eps=1e-05, momentum=0.1, affine=True, track_running_stats=True)\n",
            "        (downsample): Sequential(\n",
            "          (0): Conv2d(64, 128, kernel_size=(1, 1), stride=(2, 2), bias=False)\n",
            "          (1): BatchNorm2d(128, eps=1e-05, momentum=0.1, affine=True, track_running_stats=True)\n",
            "        )\n",
            "      )\n",
            "      (1): BasicBlock(\n",
            "        (conv1): Conv2d(128, 128, kernel_size=(3, 3), stride=(1, 1), padding=(1, 1), bias=False)\n",
            "        (bn1): BatchNorm2d(128, eps=1e-05, momentum=0.1, affine=True, track_running_stats=True)\n",
            "        (relu): ReLU(inplace=True)\n",
            "        (conv2): Conv2d(128, 128, kernel_size=(3, 3), stride=(1, 1), padding=(1, 1), bias=False)\n",
            "        (bn2): BatchNorm2d(128, eps=1e-05, momentum=0.1, affine=True, track_running_stats=True)\n",
            "      )\n",
            "    )\n",
            "    (layer3): Sequential(\n",
            "      (0): BasicBlock(\n",
            "        (conv1): Conv2d(128, 256, kernel_size=(3, 3), stride=(2, 2), padding=(1, 1), bias=False)\n",
            "        (bn1): BatchNorm2d(256, eps=1e-05, momentum=0.1, affine=True, track_running_stats=True)\n",
            "        (relu): ReLU(inplace=True)\n",
            "        (conv2): Conv2d(256, 256, kernel_size=(3, 3), stride=(1, 1), padding=(1, 1), bias=False)\n",
            "        (bn2): BatchNorm2d(256, eps=1e-05, momentum=0.1, affine=True, track_running_stats=True)\n",
            "        (downsample): Sequential(\n",
            "          (0): Conv2d(128, 256, kernel_size=(1, 1), stride=(2, 2), bias=False)\n",
            "          (1): BatchNorm2d(256, eps=1e-05, momentum=0.1, affine=True, track_running_stats=True)\n",
            "        )\n",
            "      )\n",
            "      (1): BasicBlock(\n",
            "        (conv1): Conv2d(256, 256, kernel_size=(3, 3), stride=(1, 1), padding=(1, 1), bias=False)\n",
            "        (bn1): BatchNorm2d(256, eps=1e-05, momentum=0.1, affine=True, track_running_stats=True)\n",
            "        (relu): ReLU(inplace=True)\n",
            "        (conv2): Conv2d(256, 256, kernel_size=(3, 3), stride=(1, 1), padding=(1, 1), bias=False)\n",
            "        (bn2): BatchNorm2d(256, eps=1e-05, momentum=0.1, affine=True, track_running_stats=True)\n",
            "      )\n",
            "    )\n",
            "    (layer4): Sequential(\n",
            "      (0): BasicBlock(\n",
            "        (conv1): Conv2d(256, 512, kernel_size=(3, 3), stride=(2, 2), padding=(1, 1), bias=False)\n",
            "        (bn1): BatchNorm2d(512, eps=1e-05, momentum=0.1, affine=True, track_running_stats=True)\n",
            "        (relu): ReLU(inplace=True)\n",
            "        (conv2): Conv2d(512, 512, kernel_size=(3, 3), stride=(1, 1), padding=(1, 1), bias=False)\n",
            "        (bn2): BatchNorm2d(512, eps=1e-05, momentum=0.1, affine=True, track_running_stats=True)\n",
            "        (downsample): Sequential(\n",
            "          (0): Conv2d(256, 512, kernel_size=(1, 1), stride=(2, 2), bias=False)\n",
            "          (1): BatchNorm2d(512, eps=1e-05, momentum=0.1, affine=True, track_running_stats=True)\n",
            "        )\n",
            "      )\n",
            "      (1): BasicBlock(\n",
            "        (conv1): Conv2d(512, 512, kernel_size=(3, 3), stride=(1, 1), padding=(1, 1), bias=False)\n",
            "        (bn1): BatchNorm2d(512, eps=1e-05, momentum=0.1, affine=True, track_running_stats=True)\n",
            "        (relu): ReLU(inplace=True)\n",
            "        (conv2): Conv2d(512, 512, kernel_size=(3, 3), stride=(1, 1), padding=(1, 1), bias=False)\n",
            "        (bn2): BatchNorm2d(512, eps=1e-05, momentum=0.1, affine=True, track_running_stats=True)\n",
            "      )\n",
            "    )\n",
            "    (avgpool): AdaptiveAvgPool2d(output_size=(1, 1))\n",
            "    (fc): Linear(in_features=512, out_features=10, bias=True)\n",
            "  )\n",
            "  (mlp): Identity()\n",
            ")\n"
          ]
        }
      ]
    },
    {
      "cell_type": "code",
      "metadata": {
        "id": "JvhrhekrWK6x",
        "colab": {
          "base_uri": "https://localhost:8080/",
          "height": 84,
          "referenced_widgets": [
            "933b4fab3dc142a4862e36def296a172",
            "573f2a7a9fc144b0be74c322c1f8e94a",
            "af9d5d4b8110459ab275581e5f5ef544",
            "ff9862b1c22e4f48aa6635c6223194f9",
            "4b277960755641829cb0bdc5689986ad",
            "cdf2e38b636e4c34a6a8997a28b71c0e",
            "37230f5645e84e5db8e42094097c441a",
            "bc5dbd6b743844eeb2ac1de1ec497583",
            "7c7106628e0e446dbe5d1501006bf315",
            "44f7bde0507c4bf080a930cbc0395c16",
            "eff7189c254e449bb53d3527c0b5b292"
          ]
        },
        "outputId": "3fbabf67-b516-49f3-b5ac-fbcccd212f3d"
      },
      "source": [
        "train_transforms = transforms.Compose([\n",
        "                                      transforms.ToTensor(),\n",
        "                                      transforms.Normalize((0.5,),(0.5,))\n",
        "                                     ])\n",
        "\n",
        "train_data = datasets.STL10(root='./data',split='train',download=True,transform=train_transforms)\n",
        "train_dataloader = DataLoader(train_data,batch_size=32,shuffle=True,pin_memory=True)"
      ],
      "execution_count": null,
      "outputs": [
        {
          "output_type": "stream",
          "name": "stdout",
          "text": [
            "Downloading http://ai.stanford.edu/~acoates/stl10/stl10_binary.tar.gz to ./data/stl10_binary.tar.gz\n"
          ]
        },
        {
          "output_type": "display_data",
          "data": {
            "application/vnd.jupyter.widget-view+json": {
              "model_id": "933b4fab3dc142a4862e36def296a172",
              "version_minor": 0,
              "version_major": 2
            },
            "text/plain": [
              "  0%|          | 0/2640397119 [00:00<?, ?it/s]"
            ]
          },
          "metadata": {}
        },
        {
          "output_type": "stream",
          "name": "stdout",
          "text": [
            "Extracting ./data/stl10_binary.tar.gz to ./data\n"
          ]
        }
      ]
    },
    {
      "cell_type": "code",
      "metadata": {
        "id": "mVxX4iVDXwWd",
        "colab": {
          "base_uri": "https://localhost:8080/"
        },
        "outputId": "c8abe956-de48-4054-b313-b58513fca8cd"
      },
      "source": [
        "simclr_losses = train(train_dataloader,simclr,nb_epochs=80)"
      ],
      "execution_count": null,
      "outputs": [
        {
          "output_type": "stream",
          "name": "stdout",
          "text": [
            "Training loss for epoch 1 = 2.1690618\n",
            "Training loss for epoch 2 = 1.8986224\n",
            "Training loss for epoch 3 = 1.7125462\n",
            "Training loss for epoch 4 = 1.5730343\n",
            "Training loss for epoch 5 = 1.4638788\n",
            "Training loss for epoch 6 = 1.3809225\n",
            "Training loss for epoch 7 = 1.3089289\n",
            "Training loss for epoch 8 = 1.2534424\n",
            "Training loss for epoch 9 = 1.2048359\n",
            "Training loss for epoch 10 = 1.1633676\n",
            "Training loss for epoch 11 = 1.1283555\n",
            "Training loss for epoch 12 = 1.1018220\n",
            "Training loss for epoch 13 = 1.0774222\n",
            "Training loss for epoch 14 = 1.0503039\n",
            "Training loss for epoch 15 = 1.0246534\n",
            "Training loss for epoch 16 = 1.0122037\n",
            "Training loss for epoch 17 = 0.9903446\n",
            "Training loss for epoch 18 = 0.9741026\n",
            "Training loss for epoch 19 = 0.9550229\n",
            "Training loss for epoch 20 = 0.9516654\n",
            "Training loss for epoch 21 = 0.9332973\n",
            "Training loss for epoch 22 = 0.9235441\n",
            "Training loss for epoch 23 = 0.9201380\n",
            "Training loss for epoch 24 = 0.9049761\n",
            "Training loss for epoch 25 = 0.8965019\n",
            "Training loss for epoch 26 = 0.8808447\n",
            "Training loss for epoch 27 = 0.8719402\n",
            "Training loss for epoch 28 = 0.8683704\n",
            "Training loss for epoch 29 = 0.8569804\n",
            "Training loss for epoch 30 = 0.8498720\n",
            "Training loss for epoch 31 = 0.8349146\n",
            "Training loss for epoch 32 = 0.8361024\n",
            "Training loss for epoch 33 = 0.8304251\n",
            "Training loss for epoch 34 = 0.8212013\n",
            "Training loss for epoch 35 = 0.8213547\n",
            "Training loss for epoch 36 = 0.8134733\n",
            "Training loss for epoch 37 = 0.8065984\n",
            "Training loss for epoch 38 = 0.7966705\n",
            "Training loss for epoch 39 = 0.8078503\n",
            "Training loss for epoch 40 = 0.8032950\n",
            "Training loss for epoch 41 = 0.7852594\n",
            "Training loss for epoch 42 = 0.7777228\n",
            "Training loss for epoch 43 = 0.7774636\n",
            "Training loss for epoch 44 = 0.7746311\n",
            "Training loss for epoch 45 = 0.7620469\n",
            "Training loss for epoch 46 = 0.7763105\n",
            "Training loss for epoch 47 = 0.7718475\n",
            "Training loss for epoch 48 = 0.7586514\n",
            "Training loss for epoch 49 = 0.7602190\n",
            "Training loss for epoch 50 = 0.7453802\n",
            "Training loss for epoch 51 = 0.7490691\n",
            "Training loss for epoch 52 = 0.7398745\n",
            "Training loss for epoch 53 = 0.7417250\n",
            "Training loss for epoch 54 = 0.7343067\n",
            "Training loss for epoch 55 = 0.7302092\n",
            "Training loss for epoch 56 = 0.7280788\n",
            "Training loss for epoch 57 = 0.7382689\n",
            "Training loss for epoch 58 = 0.7190241\n",
            "Training loss for epoch 59 = 0.7169063\n",
            "Training loss for epoch 60 = 0.7172200\n",
            "Training loss for epoch 61 = 0.7205596\n",
            "Training loss for epoch 62 = 0.7257210\n",
            "Training loss for epoch 63 = 0.7117078\n",
            "Training loss for epoch 64 = 0.7124494\n",
            "Training loss for epoch 65 = 0.7155749\n",
            "Training loss for epoch 66 = 0.6897366\n",
            "Training loss for epoch 67 = 0.6978765\n",
            "Training loss for epoch 68 = 0.7001052\n",
            "Training loss for epoch 69 = 0.7034752\n",
            "Training loss for epoch 70 = 0.6852479\n",
            "Training loss for epoch 71 = 0.6881124\n",
            "Training loss for epoch 72 = 0.6883431\n",
            "Training loss for epoch 73 = 0.6904168\n",
            "Training loss for epoch 74 = 0.6835639\n",
            "Training loss for epoch 75 = 0.6755800\n",
            "Training loss for epoch 76 = 0.6807009\n",
            "Training loss for epoch 77 = 0.6865516\n",
            "Training loss for epoch 78 = 0.6770069\n",
            "Training loss for epoch 79 = 0.6655704\n",
            "Training loss for epoch 80 = 0.6678621\n",
            "\n",
            "Training has successfully finished !\n"
          ]
        }
      ]
    },
    {
      "cell_type": "markdown",
      "metadata": {
        "id": "EMM27n1zTgjC"
      },
      "source": [
        "## Baseline"
      ]
    },
    {
      "cell_type": "code",
      "metadata": {
        "id": "-pd9g1wbB_yO",
        "colab": {
          "base_uri": "https://localhost:8080/"
        },
        "outputId": "5f29accf-d972-44f5-ba69-96cdcf9ef6bb"
      },
      "source": [
        "baseline = models.resnet18(pretrained=False,num_classes=10)\n",
        "print(baseline)"
      ],
      "execution_count": null,
      "outputs": [
        {
          "output_type": "stream",
          "name": "stdout",
          "text": [
            "ResNet(\n",
            "  (conv1): Conv2d(3, 64, kernel_size=(7, 7), stride=(2, 2), padding=(3, 3), bias=False)\n",
            "  (bn1): BatchNorm2d(64, eps=1e-05, momentum=0.1, affine=True, track_running_stats=True)\n",
            "  (relu): ReLU(inplace=True)\n",
            "  (maxpool): MaxPool2d(kernel_size=3, stride=2, padding=1, dilation=1, ceil_mode=False)\n",
            "  (layer1): Sequential(\n",
            "    (0): BasicBlock(\n",
            "      (conv1): Conv2d(64, 64, kernel_size=(3, 3), stride=(1, 1), padding=(1, 1), bias=False)\n",
            "      (bn1): BatchNorm2d(64, eps=1e-05, momentum=0.1, affine=True, track_running_stats=True)\n",
            "      (relu): ReLU(inplace=True)\n",
            "      (conv2): Conv2d(64, 64, kernel_size=(3, 3), stride=(1, 1), padding=(1, 1), bias=False)\n",
            "      (bn2): BatchNorm2d(64, eps=1e-05, momentum=0.1, affine=True, track_running_stats=True)\n",
            "    )\n",
            "    (1): BasicBlock(\n",
            "      (conv1): Conv2d(64, 64, kernel_size=(3, 3), stride=(1, 1), padding=(1, 1), bias=False)\n",
            "      (bn1): BatchNorm2d(64, eps=1e-05, momentum=0.1, affine=True, track_running_stats=True)\n",
            "      (relu): ReLU(inplace=True)\n",
            "      (conv2): Conv2d(64, 64, kernel_size=(3, 3), stride=(1, 1), padding=(1, 1), bias=False)\n",
            "      (bn2): BatchNorm2d(64, eps=1e-05, momentum=0.1, affine=True, track_running_stats=True)\n",
            "    )\n",
            "  )\n",
            "  (layer2): Sequential(\n",
            "    (0): BasicBlock(\n",
            "      (conv1): Conv2d(64, 128, kernel_size=(3, 3), stride=(2, 2), padding=(1, 1), bias=False)\n",
            "      (bn1): BatchNorm2d(128, eps=1e-05, momentum=0.1, affine=True, track_running_stats=True)\n",
            "      (relu): ReLU(inplace=True)\n",
            "      (conv2): Conv2d(128, 128, kernel_size=(3, 3), stride=(1, 1), padding=(1, 1), bias=False)\n",
            "      (bn2): BatchNorm2d(128, eps=1e-05, momentum=0.1, affine=True, track_running_stats=True)\n",
            "      (downsample): Sequential(\n",
            "        (0): Conv2d(64, 128, kernel_size=(1, 1), stride=(2, 2), bias=False)\n",
            "        (1): BatchNorm2d(128, eps=1e-05, momentum=0.1, affine=True, track_running_stats=True)\n",
            "      )\n",
            "    )\n",
            "    (1): BasicBlock(\n",
            "      (conv1): Conv2d(128, 128, kernel_size=(3, 3), stride=(1, 1), padding=(1, 1), bias=False)\n",
            "      (bn1): BatchNorm2d(128, eps=1e-05, momentum=0.1, affine=True, track_running_stats=True)\n",
            "      (relu): ReLU(inplace=True)\n",
            "      (conv2): Conv2d(128, 128, kernel_size=(3, 3), stride=(1, 1), padding=(1, 1), bias=False)\n",
            "      (bn2): BatchNorm2d(128, eps=1e-05, momentum=0.1, affine=True, track_running_stats=True)\n",
            "    )\n",
            "  )\n",
            "  (layer3): Sequential(\n",
            "    (0): BasicBlock(\n",
            "      (conv1): Conv2d(128, 256, kernel_size=(3, 3), stride=(2, 2), padding=(1, 1), bias=False)\n",
            "      (bn1): BatchNorm2d(256, eps=1e-05, momentum=0.1, affine=True, track_running_stats=True)\n",
            "      (relu): ReLU(inplace=True)\n",
            "      (conv2): Conv2d(256, 256, kernel_size=(3, 3), stride=(1, 1), padding=(1, 1), bias=False)\n",
            "      (bn2): BatchNorm2d(256, eps=1e-05, momentum=0.1, affine=True, track_running_stats=True)\n",
            "      (downsample): Sequential(\n",
            "        (0): Conv2d(128, 256, kernel_size=(1, 1), stride=(2, 2), bias=False)\n",
            "        (1): BatchNorm2d(256, eps=1e-05, momentum=0.1, affine=True, track_running_stats=True)\n",
            "      )\n",
            "    )\n",
            "    (1): BasicBlock(\n",
            "      (conv1): Conv2d(256, 256, kernel_size=(3, 3), stride=(1, 1), padding=(1, 1), bias=False)\n",
            "      (bn1): BatchNorm2d(256, eps=1e-05, momentum=0.1, affine=True, track_running_stats=True)\n",
            "      (relu): ReLU(inplace=True)\n",
            "      (conv2): Conv2d(256, 256, kernel_size=(3, 3), stride=(1, 1), padding=(1, 1), bias=False)\n",
            "      (bn2): BatchNorm2d(256, eps=1e-05, momentum=0.1, affine=True, track_running_stats=True)\n",
            "    )\n",
            "  )\n",
            "  (layer4): Sequential(\n",
            "    (0): BasicBlock(\n",
            "      (conv1): Conv2d(256, 512, kernel_size=(3, 3), stride=(2, 2), padding=(1, 1), bias=False)\n",
            "      (bn1): BatchNorm2d(512, eps=1e-05, momentum=0.1, affine=True, track_running_stats=True)\n",
            "      (relu): ReLU(inplace=True)\n",
            "      (conv2): Conv2d(512, 512, kernel_size=(3, 3), stride=(1, 1), padding=(1, 1), bias=False)\n",
            "      (bn2): BatchNorm2d(512, eps=1e-05, momentum=0.1, affine=True, track_running_stats=True)\n",
            "      (downsample): Sequential(\n",
            "        (0): Conv2d(256, 512, kernel_size=(1, 1), stride=(2, 2), bias=False)\n",
            "        (1): BatchNorm2d(512, eps=1e-05, momentum=0.1, affine=True, track_running_stats=True)\n",
            "      )\n",
            "    )\n",
            "    (1): BasicBlock(\n",
            "      (conv1): Conv2d(512, 512, kernel_size=(3, 3), stride=(1, 1), padding=(1, 1), bias=False)\n",
            "      (bn1): BatchNorm2d(512, eps=1e-05, momentum=0.1, affine=True, track_running_stats=True)\n",
            "      (relu): ReLU(inplace=True)\n",
            "      (conv2): Conv2d(512, 512, kernel_size=(3, 3), stride=(1, 1), padding=(1, 1), bias=False)\n",
            "      (bn2): BatchNorm2d(512, eps=1e-05, momentum=0.1, affine=True, track_running_stats=True)\n",
            "    )\n",
            "  )\n",
            "  (avgpool): AdaptiveAvgPool2d(output_size=(1, 1))\n",
            "  (fc): Linear(in_features=512, out_features=10, bias=True)\n",
            ")\n"
          ]
        }
      ]
    },
    {
      "cell_type": "code",
      "metadata": {
        "id": "6pJW0Sf0E14q",
        "colab": {
          "base_uri": "https://localhost:8080/"
        },
        "outputId": "1091db0c-77e0-4397-abb2-919b536dc632"
      },
      "source": [
        "train_transforms = transforms.Compose([\n",
        "                                       transforms.RandomHorizontalFlip(),\n",
        "                                       transforms.RandomResizedCrop(size=96, scale=(0.8, 1.0)),\n",
        "                                       transforms.RandomGrayscale(p=0.2),\n",
        "                                       transforms.GaussianBlur(kernel_size=9, sigma=(0.1, 0.5)),\n",
        "                                       transforms.ToTensor(),\n",
        "                                       transforms.Normalize((0.5,), (0.5,))\n",
        "]) #To match the data used to pretrain.\n",
        "\n",
        "train_data = datasets.STL10(root='./data',split='train',download=True,transform=train_transforms)\n",
        "train_dataloader = DataLoader(train_data,batch_size=32,shuffle=True,pin_memory=True)"
      ],
      "execution_count": null,
      "outputs": [
        {
          "output_type": "stream",
          "name": "stdout",
          "text": [
            "Files already downloaded and verified\n"
          ]
        }
      ]
    },
    {
      "cell_type": "code",
      "metadata": {
        "id": "mLWGhu-fKG6j",
        "colab": {
          "base_uri": "https://localhost:8080/"
        },
        "outputId": "bdb891a8-27f9-4f41-83f6-34313cc54559"
      },
      "source": [
        "baseline_losses = train(train_dataloader,baseline,nb_epochs=80)"
      ],
      "execution_count": null,
      "outputs": [
        {
          "output_type": "stream",
          "name": "stdout",
          "text": [
            "Training loss for epoch 1 = 2.2881346\n",
            "Training loss for epoch 2 = 2.1858332\n",
            "Training loss for epoch 3 = 2.1027970\n",
            "Training loss for epoch 4 = 2.0113022\n",
            "Training loss for epoch 5 = 1.9287318\n",
            "Training loss for epoch 6 = 1.8687007\n",
            "Training loss for epoch 7 = 1.8113373\n",
            "Training loss for epoch 8 = 1.7692886\n",
            "Training loss for epoch 9 = 1.7325066\n",
            "Training loss for epoch 10 = 1.6998536\n",
            "Training loss for epoch 11 = 1.6741047\n",
            "Training loss for epoch 12 = 1.6465564\n",
            "Training loss for epoch 13 = 1.6309565\n",
            "Training loss for epoch 14 = 1.6068681\n",
            "Training loss for epoch 15 = 1.5923691\n",
            "Training loss for epoch 16 = 1.5723376\n",
            "Training loss for epoch 17 = 1.5593950\n",
            "Training loss for epoch 18 = 1.5551972\n",
            "Training loss for epoch 19 = 1.5230585\n",
            "Training loss for epoch 20 = 1.5222919\n",
            "Training loss for epoch 21 = 1.5044964\n",
            "Training loss for epoch 22 = 1.5019538\n",
            "Training loss for epoch 23 = 1.4738708\n",
            "Training loss for epoch 24 = 1.4688450\n",
            "Training loss for epoch 25 = 1.4643871\n",
            "Training loss for epoch 26 = 1.4458740\n",
            "Training loss for epoch 27 = 1.4315830\n",
            "Training loss for epoch 28 = 1.4343092\n",
            "Training loss for epoch 29 = 1.4150242\n",
            "Training loss for epoch 30 = 1.4060830\n",
            "Training loss for epoch 31 = 1.3889720\n",
            "Training loss for epoch 32 = 1.3787848\n",
            "Training loss for epoch 33 = 1.3806339\n",
            "Training loss for epoch 34 = 1.3532288\n",
            "Training loss for epoch 35 = 1.3518987\n",
            "Training loss for epoch 36 = 1.3281518\n",
            "Training loss for epoch 37 = 1.3153171\n",
            "Training loss for epoch 38 = 1.3058771\n",
            "Training loss for epoch 39 = 1.2989388\n",
            "Training loss for epoch 40 = 1.2900191\n",
            "Training loss for epoch 41 = 1.2759048\n",
            "Training loss for epoch 42 = 1.2690045\n",
            "Training loss for epoch 43 = 1.2555485\n",
            "Training loss for epoch 44 = 1.2448747\n",
            "Training loss for epoch 45 = 1.2369945\n",
            "Training loss for epoch 46 = 1.2231717\n",
            "Training loss for epoch 47 = 1.2195571\n",
            "Training loss for epoch 48 = 1.2068913\n",
            "Training loss for epoch 49 = 1.1904927\n",
            "Training loss for epoch 50 = 1.1935882\n",
            "Training loss for epoch 51 = 1.1787470\n",
            "Training loss for epoch 52 = 1.1587255\n",
            "Training loss for epoch 53 = 1.1671127\n",
            "Training loss for epoch 54 = 1.1556864\n",
            "Training loss for epoch 55 = 1.1460403\n",
            "Training loss for epoch 56 = 1.1355625\n",
            "Training loss for epoch 57 = 1.1266986\n",
            "Training loss for epoch 58 = 1.1050652\n",
            "Training loss for epoch 59 = 1.1127047\n",
            "Training loss for epoch 60 = 1.0956394\n",
            "Training loss for epoch 61 = 1.0787175\n",
            "Training loss for epoch 62 = 1.0858331\n",
            "Training loss for epoch 63 = 1.0690219\n",
            "Training loss for epoch 64 = 1.0655003\n",
            "Training loss for epoch 65 = 1.0514839\n",
            "Training loss for epoch 66 = 1.0557948\n",
            "Training loss for epoch 67 = 1.0490764\n",
            "Training loss for epoch 68 = 1.0508303\n",
            "Training loss for epoch 69 = 1.0315370\n",
            "Training loss for epoch 70 = 1.0122126\n",
            "Training loss for epoch 71 = 1.0096022\n",
            "Training loss for epoch 72 = 1.0107515\n",
            "Training loss for epoch 73 = 1.0084076\n",
            "Training loss for epoch 74 = 0.9851832\n",
            "Training loss for epoch 75 = 0.9758926\n",
            "Training loss for epoch 76 = 0.9764542\n",
            "Training loss for epoch 77 = 0.9763536\n",
            "Training loss for epoch 78 = 0.9475266\n",
            "Training loss for epoch 79 = 0.9548112\n",
            "Training loss for epoch 80 = 0.9463971\n",
            "\n",
            "Training has successfully finished !\n"
          ]
        }
      ]
    },
    {
      "cell_type": "markdown",
      "metadata": {
        "id": "0c3n1ziyUE5l"
      },
      "source": [
        "## Ablation Study"
      ]
    },
    {
      "cell_type": "code",
      "metadata": {
        "id": "_9pHvOtvfdtm",
        "colab": {
          "base_uri": "https://localhost:8080/",
          "height": 350
        },
        "outputId": "1feeda5e-e37d-4dcc-93a1-504285e86959"
      },
      "source": [
        "#Plot of SimCLR & Baseline's losses during Training\n",
        "plt.figure(figsize=(10,5))\n",
        "plt.title(\"SimCLR & Baseline Loss During Training\")\n",
        "plt.plot(simclr_losses,label=\"SimCLR\")\n",
        "plt.plot(baseline_losses,label=\"Baseline\")\n",
        "plt.xlabel(\"Epochs\")\n",
        "plt.ylabel(\"Loss\")\n",
        "plt.legend()\n",
        "plt.show()"
      ],
      "execution_count": null,
      "outputs": [
        {
          "output_type": "display_data",
          "data": {
            "image/png": "[encoded data removed]",
            "text/plain": [
              "<Figure size 720x360 with 1 Axes>"
            ]
          },
          "metadata": {
            "needs_background": "light"
          }
        }
      ]
    },
    {
      "cell_type": "code",
      "metadata": {
        "id": "b8R5ImEtawOJ",
        "colab": {
          "base_uri": "https://localhost:8080/"
        },
        "outputId": "a132d0a2-a4a8-4072-9c99-9ed5491c7bcb"
      },
      "source": [
        "test_transforms = transforms.Compose([\n",
        "                                      transforms.ToTensor(),\n",
        "                                      transforms.Normalize((0.5,),(0.5,))\n",
        "])\n",
        "\n",
        "test_data = datasets.STL10(root='./data',split='test',download=True,transform=test_transforms)\n",
        "test_dataloader = DataLoader(test_data,batch_size=32,shuffle=False,pin_memory=True,num_workers=1)"
      ],
      "execution_count": null,
      "outputs": [
        {
          "output_type": "stream",
          "name": "stdout",
          "text": [
            "Files already downloaded and verified\n"
          ]
        }
      ]
    },
    {
      "cell_type": "code",
      "metadata": {
        "id": "BoOOUTrXhG6e",
        "colab": {
          "base_uri": "https://localhost:8080/"
        },
        "outputId": "c69129c1-4125-47b5-832a-a9940525d18f"
      },
      "source": [
        "print('For Neural Network pretrained using SimCLR:')\n",
        "test(test_dataloader,simclr)\n",
        "print('\\nFor Baseline:')\n",
        "test(test_dataloader,baseline)"
      ],
      "execution_count": null,
      "outputs": [
        {
          "output_type": "stream",
          "name": "stdout",
          "text": [
            "For Neural Network pretrained using SimCLR:\n",
            "Accuracy on Testing set = 75.613% [6049/8000]\n",
            "\n",
            "For Baseline:\n",
            "Accuracy on Testing set = 55.612% [4449/8000]\n"
          ]
        }
      ]
    },
    {
      "cell_type": "markdown",
      "metadata": {
        "id": "islZbEaXWkEC"
      },
      "source": [
        "## Conclusion"
      ]
    },
    {
      "cell_type": "markdown",
      "metadata": {
        "id": "3sIamN4PWxZB"
      },
      "source": [
        "As we can see, the Neural network which is pretrained using SimCLR performs better than our baseline network. Which means that the network has learned meaningful representations."
      ]
    }
  ]
}